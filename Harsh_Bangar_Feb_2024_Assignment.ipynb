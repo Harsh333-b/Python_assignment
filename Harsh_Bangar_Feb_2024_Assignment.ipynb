{
 "cells": [
  {
   "cell_type": "markdown",
   "id": "a2f4e351-a436-461e-8f41-92261a2ea92c",
   "metadata": {},
   "source": [
    "Problem 1:-\r\n",
    "In a cricket tournament, based on the outcome of a particular match a team gets following points:\r\n",
    "\r\n",
    "wins gets 7 points\r\n",
    "draws gets 2 points\r\n",
    "losses gets 0 points\r\n",
    "Team Aravali plays 8 matches in this tournament. It wins 4 matches, loses 3 matches and draws 1. What is the total number of points gained by the Team austria?\r\n",
    "\r\n",
    "\r\n",
    "a) The outcome variables are defined below?\r\n",
    "b) Calculate the total points gained by Team Austria and print."
   ]
  },
  {
   "cell_type": "code",
   "execution_count": 1,
   "id": "657a4fb0-3865-46e6-8258-e1a231aa68d9",
   "metadata": {},
   "outputs": [
    {
     "name": "stdout",
     "output_type": "stream",
     "text": [
      "The Total Points gained by Australia is : 30\n"
     ]
    }
   ],
   "source": [
    "wins = 4\n",
    "draws = 1\n",
    "losses = 3\n",
    "\n",
    "total_points = (wins * 7) + (draws * 2) + (losses * 0)\n",
    "print(f\"The Total Points gained by Australia is : {total_points}\")"
   ]
  },
  {
   "cell_type": "markdown",
   "id": "bdc0a56a-f628-4a58-9d79-8f126b7889fe",
   "metadata": {},
   "source": [
    "Problem 2:-\n",
    "Root of a function  f(x)  is defined as the value  x  where  f(x)=0 \n",
    "Consider a quadratic function  f(x)=x2+3x−4 \n",
    "Find the value of the function  f(x)  at points  x=7,x=−1,x=1 .\n",
    "  a)Calculate the value of the function f(x) at x = 2.\n",
    "  b) Calculate the value of the function f(x) at x = 1"
   ]
  },
  {
   "cell_type": "code",
   "execution_count": 2,
   "id": "3063e87f-71b8-4323-a42d-21e09352865e",
   "metadata": {},
   "outputs": [
    {
     "name": "stdout",
     "output_type": "stream",
     "text": [
      "The result of f(x) at x=2 :=  6\n",
      "The result of f(x) at x=1 :-  0\n"
     ]
    }
   ],
   "source": [
    "def f(x):\n",
    "    return x**2 + 3*x - 4\n",
    "result_2 = f(2)\n",
    "print(f\"The result of f(x) at x=2 := \",result_2)\n",
    "result_1 = f(1)\n",
    "print(f\"The result of f(x) at x=1 :- \",result_1)"
   ]
  },
  {
   "cell_type": "markdown",
   "id": "7e78157e-ee38-450e-b14b-f54dcca014b2",
   "metadata": {},
   "source": [
    "Problem 3:-\r\n",
    "A list contains the average daily temperature(in degree Celsius) of a city over a particular week. Write a Python code to swap the highest and the lowest temperature\r\n",
    "\r\n",
    "a) A list containing average daily temperature over a week \r\n",
    "temperatures = [34, 40, 29, 33, 42, 37, 9 ]\r\n",
    "\r\n",
    "b) The expected ot \r\n",
    " \r\n",
    "\r\n",
    "\r\n",
    "c)Store the highest eperature\r\n",
    "\r\n",
    "\r\n",
    "d) Index of the element with the highest temperature\r\n",
    "maxemp_index = \r\n",
    "\r\n",
    "\r\n",
    "e) Store the lowest temperaure \r\n",
    "min_temp = \r\n",
    "\r\n",
    "f) Index of the element with the lowest temperature\r\n",
    "min_temp_index = "
   ]
  },
  {
   "cell_type": "code",
   "execution_count": 3,
   "id": "cc36bcef-f0aa-4cd8-849f-83e10e7f99b3",
   "metadata": {},
   "outputs": [
    {
     "name": "stdout",
     "output_type": "stream",
     "text": [
      "Average is :  112.0\n",
      "Highest temperature is :  42\n",
      "Highest temperature Index is :  4\n",
      "Lowest temperature is :  9\n",
      "Lowest temperature index is :  6\n"
     ]
    }
   ],
   "source": [
    "temp = [34,40,29,33,42,37,9]\n",
    "avg = sum(temp) / 2\n",
    "print(\"Average is : \",avg)\n",
    "maxi = max(temp)\n",
    "max_index = temp.index(maxi)\n",
    "print(\"Highest temperature is : \",maxi)\n",
    "print(\"Highest temperature Index is : \",max_index)\n",
    "mini = min(temp)\n",
    "mini_index = temp.index(mini)\n",
    "print(\"Lowest temperature is : \",mini)\n",
    "print(\"Lowest temperature index is : \",mini_index)"
   ]
  },
  {
   "cell_type": "markdown",
   "id": "2d2d0424-2174-4c7f-829b-0f6f0d4d9832",
   "metadata": {},
   "source": [
    "problem 4:- Calculate the median price\n",
    "\n",
    "a) Step 1 - Obtain the sorted list\n",
    "b)Check if the number of elements in the list is even or odd\n",
    "c)Use the corresponding formula to calculate the median and print the median\n",
    "d) Check which is greater, mean or median"
   ]
  },
  {
   "cell_type": "code",
   "execution_count": 4,
   "id": "fd146680-b7e3-4a94-8381-ad4e85cb32f9",
   "metadata": {},
   "outputs": [
    {
     "name": "stdout",
     "output_type": "stream",
     "text": [
      "Median price: 15\n",
      "Given Data Mean is :  16.14\n",
      "Mean is greater than median.\n"
     ]
    }
   ],
   "source": [
    "prices = [3,6,12,15,22,25,30]\n",
    "sorted_prices = sorted(prices)\n",
    "num_elements = len(sorted_prices)\n",
    "if num_elements % 2 == 0:  # Even number of elements\n",
    "    middle_index_1 = num_elements // 2 - 1\n",
    "    middle_index_2 = num_elements // 2\n",
    "    median = (sorted_prices[middle_index_1] + sorted_prices[middle_index_2]) / 2\n",
    "else: \n",
    "    middle_index = num_elements // 2\n",
    "    median = sorted_prices[middle_index]\n",
    "print(\"Median price:\", median)\n",
    "\n",
    "# Calculate the mean\n",
    "mean = sum(prices) / len(prices)\n",
    "print(\"Given Data Mean is : \",format(mean,'.2f'))\n",
    "if mean > median:\n",
    "    print(\"Mean is greater than median.\")\n",
    "elif median > mean:\n",
    "    print(\"Median is greater than mean.\")\n",
    "else:\n",
    "    print(\"Mean and median are equal.\")\n"
   ]
  },
  {
   "cell_type": "markdown",
   "id": "340b1f8c-e364-46fc-a42c-280a2ff5dd8d",
   "metadata": {},
   "source": [
    "Problem 5:- \r\n",
    "Having a nested list sometimes might be a bit problematic. An individual was asked to collect the names of companies in the technology sector.\r\n",
    " While creating the list, by mistake the last three companies were subsumed in a list as shown below. You are required to get rid of the nesting\r\n",
    "\r\n",
    "a)The list of tech companies curated by the individual\r\n",
    "tech_companies = ['Qualcomm','Google','Apple',['Nvidia','Cisco','Samsung']]"
   ]
  },
  {
   "cell_type": "code",
   "execution_count": 5,
   "id": "bb9cc84f-807e-4ac7-948a-31dd3779f408",
   "metadata": {},
   "outputs": [
    {
     "name": "stdout",
     "output_type": "stream",
     "text": [
      "['Qualcomm', 'Google', 'Apple', 'Nvidia', 'Cisco', 'Samsung']\n"
     ]
    }
   ],
   "source": [
    "tech = ['Qualcomm','Google','Apple',['Nvidia','Cisco','Samsung']]\n",
    "def flatten_list(nested_list):\n",
    "    flattened_list = []\n",
    "    for item in nested_list:\n",
    "        if isinstance(item,list):\n",
    "            flattened_list.extend(flatten_list(item))\n",
    "        else:\n",
    "            flattened_list.append(item)\n",
    "    return flattened_list\n",
    "flattened_tech_companies = flatten_list(tech)\n",
    "print(flattened_tech_companies)"
   ]
  },
  {
   "cell_type": "markdown",
   "id": "a00704c0-c67f-4428-9085-d88a991044da",
   "metadata": {},
   "source": [
    "Problem 6:-\r\n",
    "Another measure of average\r\n",
    "Mode is defined as the value that appears most often in a set of data values. Mode corresponds to the most frequent value.\r\n",
    "You are given a list of numbers and you need to calculate the mode of this list.\r\n",
    "\r\n",
    " A list containing average daily temperature over 10 days\r\n",
    "temperatures = [34, 40, 29, 33, 42, 40, 39, 34, 34,33 ]"
   ]
  },
  {
   "cell_type": "code",
   "execution_count": 6,
   "id": "51d74905-c1e1-4d1e-88e1-765bc72c5cf5",
   "metadata": {},
   "outputs": [
    {
     "name": "stdout",
     "output_type": "stream",
     "text": [
      "Mode of temperatures: 34\n"
     ]
    }
   ],
   "source": [
    "import statistics\n",
    "temperatures = [34, 40, 29, 33, 42, 40, 39, 34, 34, 33]\n",
    "mode_temperature = statistics.mode(temperatures)\n",
    "print(\"Mode of temperatures:\", mode_temperature)"
   ]
  },
  {
   "cell_type": "markdown",
   "id": "e773d8d7-edb5-46b8-8128-4540267055aa",
   "metadata": {},
   "source": [
    "Problem 7:-  numpy\r\n",
    "Construct a 2-D  10∗10  matrix with the following constraints:\r\n",
    "The element at  [0,0]  should be 1\r\n",
    "The element at  [0,9]  should be 100\r\n",
    "The element at  [9,0]  should be 50\r\n",
    "The interval between elements in rows should be constant\r\n",
    "The interval between elements in columns should be constant"
   ]
  },
  {
   "cell_type": "code",
   "execution_count": 7,
   "id": "df1a0e23-2265-4a69-b75f-a54fa18222a6",
   "metadata": {},
   "outputs": [
    {
     "name": "stdout",
     "output_type": "stream",
     "text": [
      "[[  1.  12.  23.  34.  45.  56.  67.  78.  89. 100.]\n",
      " [  6.   0.   0.   0.   0.   0.   0.   0.   0.   0.]\n",
      " [ 11.   0.   0.   0.   0.   0.   0.   0.   0.   0.]\n",
      " [ 16.   0.   0.   0.   0.   0.   0.   0.   0.   0.]\n",
      " [ 21.   0.   0.   0.   0.   0.   0.   0.   0.   0.]\n",
      " [ 26.   0.   0.   0.   0.   0.   0.   0.   0.   0.]\n",
      " [ 31.   0.   0.   0.   0.   0.   0.   0.   0.   0.]\n",
      " [ 36.   0.   0.   0.   0.   0.   0.   0.   0.   0.]\n",
      " [ 41.   0.   0.   0.   0.   0.   0.   0.   0.   0.]\n",
      " [ 46.   0.   0.   0.   0.   0.   0.   0.   0.   0.]]\n"
     ]
    }
   ],
   "source": [
    "import numpy as np\n",
    "matrix = np.zeros((10,10))\n",
    "matrix[0,0] = 1\n",
    "matrix[0,9] = 100\n",
    "matrix[9,0] = 50\n",
    "row_interval = (100-1)/(10-1)\n",
    "col_interval = (50-1) /(10-1)\n",
    "for i in range(1, 10):\n",
    "    matrix[0, i] = int(matrix[0, i - 1] + row_interval)\n",
    "    matrix[i, 0] = int(matrix[i - 1, 0] + col_interval)\n",
    "print(matrix)"
   ]
  },
  {
   "cell_type": "markdown",
   "id": "f3e2adae-1db0-4f88-837b-dfcb317b959c",
   "metadata": {},
   "source": [
    "Problem 8:- numpy\r\n",
    "Construct a list of first 100 natural numbers.Create a two dimensional array with 10 rows and whose each row contains 10 columns and each number in this array is the square of the number from your constructed list.\r\n",
    "For example : [[1,4,9,...,100],[121,144,...],......,]"
   ]
  },
  {
   "cell_type": "code",
   "execution_count": 8,
   "id": "50bdc313-9bf1-4e73-aea3-2f8ec61deed5",
   "metadata": {},
   "outputs": [
    {
     "name": "stdout",
     "output_type": "stream",
     "text": [
      "[[    1     4     9    16    25    36    49    64    81   100]\n",
      " [  121   144   169   196   225   256   289   324   361   400]\n",
      " [  441   484   529   576   625   676   729   784   841   900]\n",
      " [  961  1024  1089  1156  1225  1296  1369  1444  1521  1600]\n",
      " [ 1681  1764  1849  1936  2025  2116  2209  2304  2401  2500]\n",
      " [ 2601  2704  2809  2916  3025  3136  3249  3364  3481  3600]\n",
      " [ 3721  3844  3969  4096  4225  4356  4489  4624  4761  4900]\n",
      " [ 5041  5184  5329  5476  5625  5776  5929  6084  6241  6400]\n",
      " [ 6561  6724  6889  7056  7225  7396  7569  7744  7921  8100]\n",
      " [ 8281  8464  8649  8836  9025  9216  9409  9604  9801 10000]]\n"
     ]
    }
   ],
   "source": [
    "numbers = np.arange(1, 101)\n",
    "matrix = numbers.reshape(10, 10)\n",
    "squared_matrix = matrix ** 2\n",
    "print(squared_matrix)"
   ]
  }
 ],
 "metadata": {
  "kernelspec": {
   "display_name": "Python 3 (ipykernel)",
   "language": "python",
   "name": "python3"
  },
  "language_info": {
   "codemirror_mode": {
    "name": "ipython",
    "version": 3
   },
   "file_extension": ".py",
   "mimetype": "text/x-python",
   "name": "python",
   "nbconvert_exporter": "python",
   "pygments_lexer": "ipython3",
   "version": "3.11.5"
  }
 },
 "nbformat": 4,
 "nbformat_minor": 5
}
